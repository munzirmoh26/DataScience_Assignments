{
 "cells": [
  {
   "cell_type": "markdown",
   "metadata": {},
   "source": [
    "How-to-count-distance-to-the-previous-zero\n",
    "For each value, count the difference back to the previous zero (or the start of the Series,\n",
    "whichever is closer)"
   ]
  },
  {
   "cell_type": "code",
   "execution_count": 1,
   "metadata": {},
   "outputs": [],
   "source": [
    "import pandas as pd"
   ]
  },
  {
   "cell_type": "code",
   "execution_count": 3,
   "metadata": {},
   "outputs": [],
   "source": [
    "df = pd.DataFrame({'X': [7, 2, 0, 3, 4, 2, 5, 0, 3, 4]})"
   ]
  },
  {
   "cell_type": "code",
   "execution_count": 16,
   "metadata": {},
   "outputs": [
    {
     "data": {
      "text/html": [
       "<div>\n",
       "<style scoped>\n",
       "    .dataframe tbody tr th:only-of-type {\n",
       "        vertical-align: middle;\n",
       "    }\n",
       "\n",
       "    .dataframe tbody tr th {\n",
       "        vertical-align: top;\n",
       "    }\n",
       "\n",
       "    .dataframe thead th {\n",
       "        text-align: right;\n",
       "    }\n",
       "</style>\n",
       "<table border=\"1\" class=\"dataframe\">\n",
       "  <thead>\n",
       "    <tr style=\"text-align: right;\">\n",
       "      <th></th>\n",
       "      <th>X</th>\n",
       "      <th>Y</th>\n",
       "    </tr>\n",
       "  </thead>\n",
       "  <tbody>\n",
       "    <tr>\n",
       "      <th>0</th>\n",
       "      <td>7</td>\n",
       "      <td>0</td>\n",
       "    </tr>\n",
       "    <tr>\n",
       "      <th>1</th>\n",
       "      <td>2</td>\n",
       "      <td>0</td>\n",
       "    </tr>\n",
       "    <tr>\n",
       "      <th>2</th>\n",
       "      <td>0</td>\n",
       "      <td>0</td>\n",
       "    </tr>\n",
       "    <tr>\n",
       "      <th>3</th>\n",
       "      <td>3</td>\n",
       "      <td>2</td>\n",
       "    </tr>\n",
       "    <tr>\n",
       "      <th>4</th>\n",
       "      <td>4</td>\n",
       "      <td>2</td>\n",
       "    </tr>\n",
       "    <tr>\n",
       "      <th>5</th>\n",
       "      <td>2</td>\n",
       "      <td>2</td>\n",
       "    </tr>\n",
       "    <tr>\n",
       "      <th>6</th>\n",
       "      <td>5</td>\n",
       "      <td>2</td>\n",
       "    </tr>\n",
       "    <tr>\n",
       "      <th>7</th>\n",
       "      <td>0</td>\n",
       "      <td>2</td>\n",
       "    </tr>\n",
       "    <tr>\n",
       "      <th>8</th>\n",
       "      <td>3</td>\n",
       "      <td>7</td>\n",
       "    </tr>\n",
       "    <tr>\n",
       "      <th>9</th>\n",
       "      <td>4</td>\n",
       "      <td>7</td>\n",
       "    </tr>\n",
       "  </tbody>\n",
       "</table>\n",
       "</div>"
      ],
      "text/plain": [
       "   X  Y\n",
       "0  7  0\n",
       "1  2  0\n",
       "2  0  0\n",
       "3  3  2\n",
       "4  4  2\n",
       "5  2  2\n",
       "6  5  2\n",
       "7  0  2\n",
       "8  3  7\n",
       "9  4  7"
      ]
     },
     "execution_count": 16,
     "metadata": {},
     "output_type": "execute_result"
    }
   ],
   "source": [
    "df.X.index.tolist()\n",
    "index=0\n",
    "outList=[]\n",
    "for i in range(0,len(df.X.tolist())):\n",
    "    outList.append(index)\n",
    "    if df.X.tolist()[i]==0:\n",
    "        index = i\n",
    "df['Y'] = outList\n",
    "df"
   ]
  },
  {
   "cell_type": "markdown",
   "metadata": {},
   "source": [
    "Create a DatetimeIndex that contains each business day of 2015 and use it to index a Series of random numbers."
   ]
  },
  {
   "cell_type": "code",
   "execution_count": 2,
   "metadata": {},
   "outputs": [
    {
     "data": {
      "text/plain": [
       "2019-01-01    0.272946\n",
       "2019-01-02    0.682096\n",
       "2019-01-03    0.459958\n",
       "2019-01-04    0.681780\n",
       "2019-01-07    0.552900\n",
       "2019-01-08    0.046020\n",
       "2019-01-09    0.307853\n",
       "2019-01-10    0.768315\n",
       "2019-01-11    0.288390\n",
       "2019-01-14    0.786918\n",
       "2019-01-15    0.532073\n",
       "2019-01-16    0.952301\n",
       "2019-01-17    0.778808\n",
       "2019-01-18    0.795260\n",
       "2019-01-21    0.858785\n",
       "2019-01-22    0.370675\n",
       "2019-01-23    0.066394\n",
       "2019-01-24    0.112564\n",
       "2019-01-25    0.845422\n",
       "2019-01-28    0.191688\n",
       "2019-01-29    0.329462\n",
       "2019-01-30    0.903992\n",
       "2019-01-31    0.232161\n",
       "2019-02-01    0.245017\n",
       "2019-02-04    0.076568\n",
       "2019-02-05    0.500984\n",
       "2019-02-06    0.201663\n",
       "2019-02-07    0.512462\n",
       "2019-02-08    0.959511\n",
       "2019-02-11    0.520864\n",
       "                ...   \n",
       "2019-11-20    0.474676\n",
       "2019-11-21    0.053746\n",
       "2019-11-22    0.493419\n",
       "2019-11-25    0.557444\n",
       "2019-11-26    0.559988\n",
       "2019-11-27    0.089892\n",
       "2019-11-28    0.913806\n",
       "2019-11-29    0.972735\n",
       "2019-12-02    0.776510\n",
       "2019-12-03    0.889646\n",
       "2019-12-04    0.410200\n",
       "2019-12-05    0.148716\n",
       "2019-12-06    0.982223\n",
       "2019-12-09    0.727980\n",
       "2019-12-10    0.916451\n",
       "2019-12-11    0.896433\n",
       "2019-12-12    0.924359\n",
       "2019-12-13    0.959704\n",
       "2019-12-16    0.295623\n",
       "2019-12-17    0.670508\n",
       "2019-12-18    0.007480\n",
       "2019-12-19    0.050852\n",
       "2019-12-20    0.892514\n",
       "2019-12-23    0.084466\n",
       "2019-12-24    0.091451\n",
       "2019-12-25    0.860498\n",
       "2019-12-26    0.744076\n",
       "2019-12-27    0.056950\n",
       "2019-12-30    0.259623\n",
       "2019-12-31    0.111707\n",
       "Freq: B, Length: 261, dtype: float64"
      ]
     },
     "execution_count": 2,
     "metadata": {},
     "output_type": "execute_result"
    }
   ],
   "source": [
    "import numpy.random as rn\n",
    "dt = pd.DatetimeIndex(start='2019/01/01',end='2019/12/31',freq='B')\n",
    "dtFrame=pd.DataFrame(dt,columns=['businessDay'])\n",
    "dtFrame\n",
    "#len(dt)\n",
    "s = pd.Series(rn.rand(len(dt)), index=dt)\n",
    "s"
   ]
  },
  {
   "cell_type": "code",
   "execution_count": 49,
   "metadata": {},
   "outputs": [
    {
     "data": {
      "text/plain": [
       "25.28866216980697"
      ]
     },
     "execution_count": 49,
     "metadata": {},
     "output_type": "execute_result"
    }
   ],
   "source": [
    "#Find the sum of the values in s for every Wednesday\n",
    "s[dt.dayofweek==2].sum()"
   ]
  },
  {
   "cell_type": "code",
   "execution_count": 54,
   "metadata": {},
   "outputs": [
    {
     "data": {
      "text/plain": [
       "[1, 2, 3, 4, 5, 6, 7, 8, 9, 10, 11, 12]"
      ]
     },
     "execution_count": 54,
     "metadata": {},
     "output_type": "execute_result"
    }
   ],
   "source": [
    "#Average For each calendar month\n",
    "\n",
    "mon = set(dt.month)\n",
    "for m in mon:\n",
    "    for dtMon in dt.month:\n",
    "        if m == dtMon:\n",
    "            sum = sum + s[]\n",
    "x"
   ]
  },
  {
   "cell_type": "code",
   "execution_count": 63,
   "metadata": {},
   "outputs": [
    {
     "data": {
      "text/plain": [
       "2019-01-31    0.489248\n",
       "2019-02-28    0.585228\n",
       "2019-03-31    0.558026\n",
       "2019-04-30    0.565780\n",
       "2019-05-31    0.555045\n",
       "2019-06-30    0.534491\n",
       "2019-07-31    0.698581\n",
       "2019-08-31    0.559649\n",
       "2019-09-30    0.509595\n",
       "2019-10-31    0.472818\n",
       "2019-11-30    0.483482\n",
       "2019-12-31    0.564282\n",
       "Freq: M, dtype: float64"
      ]
     },
     "execution_count": 63,
     "metadata": {},
     "output_type": "execute_result"
    }
   ],
   "source": [
    "#Average For each calendar month\n",
    "\n",
    "s.resample('M').mean()"
   ]
  },
  {
   "cell_type": "code",
   "execution_count": 10,
   "metadata": {},
   "outputs": [
    {
     "data": {
      "text/plain": [
       "2019-01-31   2019-01-16\n",
       "2019-05-31   2019-05-23\n",
       "2019-09-30   2019-08-05\n",
       "2020-01-31   2019-12-06\n",
       "dtype: datetime64[ns]"
      ]
     },
     "execution_count": 10,
     "metadata": {},
     "output_type": "execute_result"
    }
   ],
   "source": [
    "#For each group of four consecutive calendar months in s, find the date on which the highest value occurred.s\n",
    "s.groupby(pd.Grouper(freq='4M')).idxmax()"
   ]
  },
  {
   "cell_type": "code",
   "execution_count": 11,
   "metadata": {},
   "outputs": [
    {
     "data": {
      "text/plain": [
       "0.9822228617996155"
      ]
     },
     "execution_count": 11,
     "metadata": {},
     "output_type": "execute_result"
    }
   ],
   "source": [
    "s['2019-12-06']"
   ]
  },
  {
   "cell_type": "code",
   "execution_count": 16,
   "metadata": {},
   "outputs": [
    {
     "data": {
      "text/plain": [
       "2019-01-31    11.816761\n",
       "2019-05-31    32.926100\n",
       "2019-09-30    44.959652\n",
       "2020-01-31    33.471916\n",
       "dtype: float64"
      ]
     },
     "execution_count": 16,
     "metadata": {},
     "output_type": "execute_result"
    }
   ],
   "source": [
    "s.groupby(pd.Grouper(freq='4M')).sum()"
   ]
  },
  {
   "cell_type": "code",
   "execution_count": null,
   "metadata": {},
   "outputs": [],
   "source": []
  }
 ],
 "metadata": {
  "kernelspec": {
   "display_name": "Python 3",
   "language": "python",
   "name": "python3"
  },
  "language_info": {
   "codemirror_mode": {
    "name": "ipython",
    "version": 3
   },
   "file_extension": ".py",
   "mimetype": "text/x-python",
   "name": "python",
   "nbconvert_exporter": "python",
   "pygments_lexer": "ipython3",
   "version": "3.6.5"
  }
 },
 "nbformat": 4,
 "nbformat_minor": 2
}
